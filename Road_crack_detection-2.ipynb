{
  "cells": [
    {
      "cell_type": "markdown",
      "metadata": {
        "id": "vs4imnWJDRKH"
      },
      "source": [
        "Author: Hari Kumar<br>\n",
        "Created Date: 10/17/2022\n",
        "\n",
        "*These Project helps in detectin ofanomoulies in the road.Through the machine learning image classification."
      ]
    },
    {
      "cell_type": "markdown",
      "metadata": {
        "id": "Vhdl56ZMDZt3"
      },
      "source": [
        "Approach\n",
        "\n",
        "In india there are serveral accidents due to pothholes and road anomolies.These difficult to Report about the cracks assess it without a manual survey.So to solve these issue we will be training a model that detects cracks and cracks on the roads.\n",
        "The images collected are by using drones and also can be sent by people to a server with location specification so as to.The Large scale images are reduced and processed accordingly using image Features.\n",
        "\n",
        "There will be two main data sets.One is Pothole and other is not_pothole.We will introduce the non_pothole and pothole images as 85 %training dataset and later we will use rest 15% for evaluation the model.\n",
        "And Once the model is deployed the people can upload the images which will increase the Precision."
      ]
    },
    {
      "cell_type": "markdown",
      "metadata": {
        "id": "IRy5fJt6JRiV"
      },
      "source": [
        "## Imports"
      ]
    },
    {
      "cell_type": "markdown",
      "metadata": {
        "id": "0jeF3nWM1V6a"
      },
      "source": [
        "All the Neccessary Imports."
      ]
    },
    {
      "cell_type": "code",
      "execution_count": 1,
      "metadata": {
        "colab": {
          "base_uri": "https://localhost:8080/"
        },
        "id": "AzmP5xQkQXs7",
        "outputId": "76ad3c50-0c94-4df5-82a8-8b8b2cfaa0a6"
      },
      "outputs": [
        {
          "name": "stdout",
          "output_type": "stream",
          "text": [
            "Looking in indexes: https://pypi.org/simple, https://us-python.pkg.dev/colab-wheels/public/simple/\n",
            "Collecting GitPython\n",
            "  Downloading GitPython-3.1.29-py3-none-any.whl (182 kB)\n",
            "\u001b[K     |████████████████████████████████| 182 kB 6.9 MB/s \n",
            "\u001b[?25hCollecting gitdb<5,>=4.0.1\n",
            "  Downloading gitdb-4.0.9-py3-none-any.whl (63 kB)\n",
            "\u001b[K     |████████████████████████████████| 63 kB 1.9 MB/s \n",
            "\u001b[?25hRequirement already satisfied: typing-extensions>=3.7.4.3 in /usr/local/lib/python3.7/dist-packages (from GitPython) (4.1.1)\n",
            "Collecting smmap<6,>=3.0.1\n",
            "  Downloading smmap-5.0.0-py3-none-any.whl (24 kB)\n",
            "Installing collected packages: smmap, gitdb, GitPython\n",
            "Successfully installed GitPython-3.1.29 gitdb-4.0.9 smmap-5.0.0\n"
          ]
        }
      ],
      "source": [
        "import numpy as np\n",
        "import tensorflow as tf\n",
        "from tensorflow import keras\n",
        "import glob\n",
        "import pandas as pd\n",
        "from tensorflow.keras import layers\n",
        "import matplotlib.pyplot as plt\n",
        "from sklearn.metrics import accuracy_score, classification_report\n",
        "from PIL import Image\n",
        "from sklearn.calibration import calibration_curve\n",
        "import os, requests, zipfile\n",
        "!pip install GitPython\n",
        "from git import Repo\n"
      ]
    },
    {
      "cell_type": "markdown",
      "metadata": {
        "id": "617ACBNK11lg"
      },
      "source": [
        "Data Set Contains Three Directories:\n",
        "\n",
        "\n",
        "1. Train/\n",
        "   a. Crack\n",
        "   b. non_cracl\n",
        "2. Test/\n",
        "   a. Crack\n",
        "   b.non_crack\n",
        "3. Val/\n",
        "   a.Crack\n",
        "   b.non_crack\n",
        "\n",
        "The downloaded dat will be stored on the in source directory. As temp_concrete_crack"
      ]
    },
    {
      "cell_type": "markdown",
      "metadata": {
        "id": "7NQSA-ky2EQh"
      },
      "source": [
        "Each batch will have 32 Pics\n",
        "And Photo Dimensions will be 227 * 277 Px"
      ]
    },
    {
      "cell_type": "markdown",
      "metadata": {
        "id": "BJBRS4392W3p"
      },
      "source": [
        "As of Now we will be using dataset of https://github.com/Hari-maloth/Road-Crack-Detection.git"
      ]
    },
    {
      "cell_type": "code",
      "execution_count": 2,
      "metadata": {
        "id": "Uj7lDMEac_P8"
      },
      "outputs": [],
      "source": [
        "batch_size = 32\n",
        "photo_height = 227\n",
        "photo_width = 227\n",
        "\n",
        "filepath = 'road_cracks'\n",
        "## Downloading the github repo clone \n",
        "try:\n",
        "    Repo.clone_from('https://github.com/Hari-maloth/Road-Crack-Detection.git', filepath)\n",
        "except:\n",
        "    PRINT('YES')\n",
        "    pass\n",
        "\n",
        "#AUTOTUNE = tf.d\n",
        "\n",
        "#train = train.cache().prefetch(buffer_size=AUTOTUNE)\n",
        "#val = val.cache().prefetch(buffer_size=AUTOTUNE)"
      ]
    },
    {
      "cell_type": "code",
      "execution_count": 3,
      "metadata": {
        "id": "m6hykWxv2hvJ"
      },
      "outputs": [],
      "source": [
        "#Assaining file paths.\n",
        "train_path = r'{road_cracks}/dataset/train/'.format(road_cracks=filepath)\n",
        "test_path = r'{road_cracks}/dataset/test'.format(road_cracks=filepath)\n",
        "val_path = r'{road_cracks}/dataset/val'.format(road_cracks=filepath)\n"
      ]
    },
    {
      "cell_type": "code",
      "execution_count": 4,
      "metadata": {
        "colab": {
          "base_uri": "https://localhost:8080/"
        },
        "id": "sIlH6bka2n_B",
        "outputId": "2a1b68fe-d481-4df3-dc57-c70f773bedc1"
      },
      "outputs": [
        {
          "name": "stdout",
          "output_type": "stream",
          "text": [
            "Found 897 files belonging to 3 classes.\n"
          ]
        }
      ],
      "source": [
        "#Training dataset with train_path(Pre Processing).\n",
        "train = tf.keras.preprocessing.image_dataset_from_directory(\n",
        "  train_path,\n",
        "  validation_split=None,\n",
        "  subset=None,\n",
        "  seed=42,\n",
        "  image_size=(photo_height, photo_width),\n",
        "  batch_size=batch_size)"
      ]
    },
    {
      "cell_type": "code",
      "execution_count": 5,
      "metadata": {
        "colab": {
          "base_uri": "https://localhost:8080/"
        },
        "id": "QVU4tVYe23no",
        "outputId": "b282ddbf-3e16-488e-b2a4-1db7b2d98dc2"
      },
      "outputs": [
        {
          "name": "stdout",
          "output_type": "stream",
          "text": [
            "Found 110 files belonging to 2 classes.\n"
          ]
        }
      ],
      "source": [
        "#Validation\n",
        "\n",
        "val = tf.keras.preprocessing.image_dataset_from_directory(\n",
        "  val_path,\n",
        "  validation_split=None,\n",
        "  subset=None,\n",
        "  seed=42,\n",
        "  image_size=(photo_height, photo_width),\n",
        "  batch_size=batch_size)\n"
      ]
    },
    {
      "cell_type": "code",
      "execution_count": 6,
      "metadata": {
        "colab": {
          "base_uri": "https://localhost:8080/"
        },
        "id": "oAdHdnsG29aw",
        "outputId": "6fdec519-468d-446f-a0dc-debe5d35a94e"
      },
      "outputs": [
        {
          "name": "stdout",
          "output_type": "stream",
          "text": [
            "classes: ['crack', 'no_crack', 'process']\n"
          ]
        }
      ],
      "source": [
        "#Assaining Classes Names for datasets.\n",
        "classes = train.class_names\n",
        "print('classes: ' +str(classes))\n"
      ]
    },
    {
      "cell_type": "markdown",
      "metadata": {
        "id": "WxxyAFurc_P8"
      },
      "source": [
        "#Preview of Data sets."
      ]
    },
    {
      "cell_type": "code",
      "execution_count": 7,
      "metadata": {
        "colab": {
          "base_uri": "https://localhost:8080/"
        },
        "id": "10uA0YxT3R1R",
        "outputId": "51a6db49-7a8f-46cb-e3a3-d1d66130256e"
      },
      "outputs": [
        {
          "name": "stdout",
          "output_type": "stream",
          "text": [
            "4\n",
            "4\n"
          ]
        }
      ],
      "source": [
        "#Number of Pics You want Visulasize\n",
        "a=int(input())\n",
        "#Size of the Pic You want to Visualize\n",
        "b=int(input())\n",
        "if b>=32:\n",
        "  print('Please Rerun this cell Also Enter B Value Below 32')"
      ]
    },
    {
      "cell_type": "code",
      "execution_count": 8,
      "metadata": {
        "colab": {
          "base_uri": "https://localhost:8080/",
          "height": 95
        },
        "id": "-jgWa_eKc_P8",
        "outputId": "58bd034c-d9a6-4262-acab-a4f498debaee"
      },
      "outputs": [
        {
          "data": {
            "image/png": "[encoded data removed]",
            "text/plain": [
              "<Figure size 288x288 with 4 Axes>"
            ]
          },
          "metadata": {
            "needs_background": "light"
          },
          "output_type": "display_data"
        }
      ],
      "source": [
        "plt.figure(figsize=(b, b))\n",
        "for images, labels in train.take(1):\n",
        "  for i in range(a):\n",
        "    ax = plt.subplot((a/4), 4, i + 1)\n",
        "    plt.imshow(images[i].numpy().astype(\"uint8\"))\n",
        "    plt.title(classes[labels[i]])\n",
        "    plt.axis(\"off\")\n",
        "plt.show()"
      ]
    },
    {
      "cell_type": "code",
      "execution_count": 9,
      "metadata": {
        "colab": {
          "base_uri": "https://localhost:8080/"
        },
        "id": "wdOJ7q7jc_P9",
        "outputId": "9e46a2a8-57d0-4ced-f65d-abb8ea51b633"
      },
      "outputs": [
        {
          "name": "stdout",
          "output_type": "stream",
          "text": [
            "compiled!\n"
          ]
        }
      ],
      "source": [
        "tf.keras.backend.clear_session()\n",
        "\n",
        "#There are two classes One is Crack Other not_Crack\n",
        "num_classes = 2\n",
        "\n",
        "#There will a preprocessing layer first it scale all the images in data set to a size of 255 px \n",
        "#After that there will be there relu activation layers\n",
        "model = tf.keras.Sequential([\n",
        "  layers.experimental.preprocessing.Rescaling(1./255),\n",
        "  layers.Conv2D(32, 3, activation='relu'),\n",
        "  layers.MaxPooling2D(),\n",
        "  layers.Conv2D(32, 3, activation='relu'),\n",
        "  layers.MaxPooling2D(),\n",
        "  layers.Conv2D(32, 3, activation='relu'),\n",
        "  layers.MaxPooling2D(),\n",
        "  layers.Flatten(),\n",
        "  layers.Dense(128, activation='relu'),\n",
        "  layers.Dense(num_classes)\n",
        "])\n",
        "    \n",
        "model.compile(\n",
        "  optimizer='adam',\n",
        "  loss=tf.losses.SparseCategoricalCrossentropy(from_logits=True),\n",
        "  metrics=['accuracy'])\n",
        "\n",
        "print('compiled!')"
      ]
    },
    {
      "cell_type": "code",
      "execution_count": 10,
      "metadata": {
        "colab": {
          "base_uri": "https://localhost:8080/",
          "height": 519
        },
        "id": "JBfmXdmjc_P9",
        "outputId": "0e56999f-1aee-449c-b5c8-ba2cb46ce351"
      },
      "outputs": [
        {
          "name": "stdout",
          "output_type": "stream",
          "text": [
            "Epoch 1/20\n",
            "29/29 [==============================] - ETA: 0s - loss: 0.4588 - accuracy: 0.8004"
          ]
        },
        {
          "name": "stderr",
          "output_type": "stream",
          "text": [
            "WARNING:absl:Found untraced functions such as _jit_compiled_convolution_op, _jit_compiled_convolution_op, _jit_compiled_convolution_op while saving (showing 3 of 3). These functions will not be directly callable after loading.\n"
          ]
        },
        {
          "name": "stdout",
          "output_type": "stream",
          "text": [
            "\b\b\b\b\b\b\b\b\b\b\b\b\b\b\b\b\b\b\b\b\b\b\b\b\b\b\b\b\b\b\b\b\b\b\b\b\b\b\b\b\b\b\b\b\b\b\b\b\b\b\b\b\b\b\b\b\b\b\b\b\b\b\b\b\b\b\b\b\b\b\b\b\b\b\b\b\b\b\b\b\b\b\r29/29 [==============================] - 43s 855ms/step - loss: 0.4588 - accuracy: 0.8004 - val_loss: 0.3402 - val_accuracy: 0.8455\n",
            "Epoch 2/20\n",
            "29/29 [==============================] - ETA: 0s - loss: 0.2003 - accuracy: 0.9275"
          ]
        },
        {
          "name": "stderr",
          "output_type": "stream",
          "text": [
            "WARNING:absl:Found untraced functions such as _jit_compiled_convolution_op, _jit_compiled_convolution_op, _jit_compiled_convolution_op while saving (showing 3 of 3). These functions will not be directly callable after loading.\n"
          ]
        },
        {
          "name": "stdout",
          "output_type": "stream",
          "text": [
            "\b\b\b\b\b\b\b\b\b\b\b\b\b\b\b\b\b\b\b\b\b\b\b\b\b\b\b\b\b\b\b\b\b\b\b\b\b\b\b\b\b\b\b\b\b\b\b\b\b\b\b\b\b\b\b\b\b\b\b\b\b\b\b\b\b\b\b\b\b\b\b\b\b\b\b\b\b\b\b\b\b\b\r29/29 [==============================] - 31s 786ms/step - loss: 0.2003 - accuracy: 0.9275 - val_loss: 0.2813 - val_accuracy: 0.9091\n",
            "Epoch 3/20\n",
            "29/29 [==============================] - 33s 821ms/step - loss: 0.0821 - accuracy: 0.9766 - val_loss: 0.4126 - val_accuracy: 0.8909\n",
            "Epoch 4/20\n",
            "29/29 [==============================] - 31s 759ms/step - loss: 0.0635 - accuracy: 0.9777 - val_loss: 0.9459 - val_accuracy: 0.8545\n",
            "Epoch 5/20\n",
            "29/29 [==============================] - 34s 767ms/step - loss: 0.0620 - accuracy: 0.9788 - val_loss: 0.8466 - val_accuracy: 0.8455\n"
          ]
        },
        {
          "data": {
            "image/png": "[encoded data removed]",
            "text/plain": [
              "<Figure size 432x288 with 2 Axes>"
            ]
          },
          "metadata": {
            "needs_background": "light"
          },
          "output_type": "display_data"
        }
      ],
      "source": [
        "model_checkpoint = tf.keras.callbacks.ModelCheckpoint(\n",
        "    filepath=filepath,\n",
        "    save_weights_only=False,\n",
        "    monitor='val_accuracy',\n",
        "    mode='max',\n",
        "    save_best_only=True)\n",
        "early_stopping = tf.keras.callbacks.EarlyStopping(patience=3)\n",
        "\n",
        "#We will have 20 epochs for the dataset.\n",
        "history = model.fit(\n",
        "  train,\n",
        "  validation_data=val,\n",
        "  epochs=20,\n",
        "    callbacks=[model_checkpoint, early_stopping]\n",
        ")\n",
        "\n",
        "\n",
        "h = pd.DataFrame(history.history)\n",
        "h['epoch'] = h.index + 1\n",
        "\n",
        "#This is not necessary in the model for as notebook to understand and visualize the data set we will matplolib graphs\n",
        "plt.subplot(2, 1, 1)\n",
        "plt.plot(h['epoch'], h['accuracy'], h['epoch'], h['val_accuracy'])\n",
        "plt.title('Model History')\n",
        "plt.ylabel('accuracy')\n",
        "plt.grid(True)\n",
        "plt.legend(('train accuracy', 'val accuracy'),\n",
        "           loc='lower right')\n",
        "ax1 = plt.gca()\n",
        "ax1.set_xticks(range(1, max(h['epoch'])+1))\n",
        "\n",
        "\n",
        "plt.subplot(2, 1, 2)\n",
        "plt.plot(h['epoch'], h['loss'], h['epoch'], h['val_loss'])\n",
        "plt.xlabel('epoch')\n",
        "plt.ylabel('loss')\n",
        "plt.grid(True)\n",
        "plt.legend(('train loss', 'val loss'),\n",
        "           loc='upper right')\n",
        "ax2 = plt.gca()\n",
        "ax2.set_xticks(range(1, max(h['epoch'])+1))\n",
        "\n",
        "plt.show()\n",
        "\n",
        "#model.save('temp_road_crack')\n",
        "\n",
        "loaded_model = tf.keras.models.load_model(filepath)"
      ]
    },
    {
      "cell_type": "markdown",
      "metadata": {
        "id": "4ew4gElec_P9"
      },
      "source": [
        "## Make Predictions\n",
        "\n",
        "The following cell pulls all of the test photos, converts them to arrays, gets a prediction for them, and appends the results from each photo in a dataframe. You can use the import method from above as well, but it can be a bit difficult to get the results a useful format.  "
      ]
    },
    {
      "cell_type": "code",
      "execution_count": 11,
      "metadata": {
        "colab": {
          "base_uri": "https://localhost:8080/"
        },
        "id": "ncSBqJ7zc_P-",
        "outputId": "dfbaa20c-489a-4aa5-e975-86148cf60eca"
      },
      "outputs": [
        {
          "name": "stdout",
          "output_type": "stream",
          "text": [
            "road_cracks/dataset/test/crack\n",
            "1/1 [==============================] - 0s 100ms/step\n",
            "1/1 [==============================] - 0s 19ms/step\n",
            "1/1 [==============================] - 0s 16ms/step\n",
            "1/1 [==============================] - 0s 16ms/step\n",
            "1/1 [==============================] - 0s 20ms/step\n",
            "1/1 [==============================] - 0s 18ms/step\n",
            "1/1 [==============================] - 0s 17ms/step\n",
            "1/1 [==============================] - 0s 21ms/step\n",
            "1/1 [==============================] - 0s 22ms/step\n",
            "1/1 [==============================] - 0s 16ms/step\n",
            "1/1 [==============================] - 0s 17ms/step\n",
            "1/1 [==============================] - 0s 18ms/step\n",
            "1/1 [==============================] - 0s 16ms/step\n",
            "1/1 [==============================] - 0s 17ms/step\n",
            "1/1 [==============================] - 0s 18ms/step\n",
            "1/1 [==============================] - 0s 18ms/step\n",
            "1/1 [==============================] - 0s 16ms/step\n",
            "1/1 [==============================] - 0s 16ms/step\n",
            "1/1 [==============================] - 0s 17ms/step\n",
            "road_cracks/dataset/test/no_crack\n",
            "1/1 [==============================] - 0s 16ms/step\n",
            "1/1 [==============================] - 0s 18ms/step\n",
            "1/1 [==============================] - 0s 15ms/step\n",
            "1/1 [==============================] - 0s 16ms/step\n",
            "1/1 [==============================] - 0s 20ms/step\n",
            "1/1 [==============================] - 0s 18ms/step\n",
            "1/1 [==============================] - 0s 17ms/step\n",
            "1/1 [==============================] - 0s 16ms/step\n",
            "1/1 [==============================] - 0s 16ms/step\n",
            "1/1 [==============================] - 0s 18ms/step\n",
            "1/1 [==============================] - 0s 16ms/step\n",
            "1/1 [==============================] - 0s 17ms/step\n",
            "1/1 [==============================] - 0s 15ms/step\n",
            "1/1 [==============================] - 0s 15ms/step\n",
            "1/1 [==============================] - 0s 19ms/step\n",
            "1/1 [==============================] - 0s 17ms/step\n",
            "1/1 [==============================] - 0s 17ms/step\n",
            "1/1 [==============================] - 0s 18ms/step\n",
            "1/1 [==============================] - 0s 16ms/step\n",
            "1/1 [==============================] - 0s 18ms/step\n",
            "1/1 [==============================] - 0s 16ms/step\n",
            "1/1 [==============================] - 0s 18ms/step\n",
            "1/1 [==============================] - 0s 16ms/step\n",
            "1/1 [==============================] - 0s 15ms/step\n",
            "1/1 [==============================] - 0s 15ms/step\n",
            "1/1 [==============================] - 0s 16ms/step\n",
            "1/1 [==============================] - 0s 18ms/step\n",
            "1/1 [==============================] - 0s 16ms/step\n",
            "1/1 [==============================] - 0s 15ms/step\n",
            "1/1 [==============================] - 0s 15ms/step\n",
            "1/1 [==============================] - 0s 16ms/step\n",
            "1/1 [==============================] - 0s 17ms/step\n",
            "1/1 [==============================] - 0s 15ms/step\n",
            "1/1 [==============================] - 0s 15ms/step\n",
            "1/1 [==============================] - 0s 17ms/step\n",
            "1/1 [==============================] - 0s 17ms/step\n",
            "1/1 [==============================] - 0s 15ms/step\n",
            "1/1 [==============================] - 0s 16ms/step\n",
            "1/1 [==============================] - 0s 18ms/step\n",
            "road_cracks/dataset/test/process\n",
            "Test Accuracy : 0.9482758620689655\n"
          ]
        }
      ],
      "source": [
        "results = pd.DataFrame(columns=['predicted', 'actual', 'probability', 'file', 'raw_logits'])\n",
        "\n",
        "at = 0\n",
        "#Giving filepaths to labels .\n",
        "for label in classes: \n",
        "    path = test_path+'/'+label\n",
        "    print(path)\n",
        "    for file in glob.iglob(path + '/*'):\n",
        "        img = keras.preprocessing.image.load_img(\n",
        "        file, target_size=(photo_height, photo_width)\n",
        "        )\n",
        "        \n",
        "        img_array = keras.preprocessing.image.img_to_array(img)\n",
        "        img_array = tf.expand_dims(img_array, 0) # Create a batch\n",
        "        \n",
        "        predictions = loaded_model.predict(img_array)\n",
        "        score = tf.nn.softmax(predictions[0])\n",
        "        results = results.append({'predicted': classes[np.argmax(score)], 'actual': label, \n",
        "                                  'probability': 100 * np.max(score), 'file': file,\n",
        "                                 'raw_logits': score}, ignore_index=True)\n",
        "        at +=1\n",
        "        if at % 200 == 0:\n",
        "            print(str(round(((at / 250) * 100), 1))+'%')\n",
        "\n",
        "        \n",
        "\n",
        "score = accuracy_score(results['actual'], results['predicted'])\n",
        "print('Test Accuracy : '+str(score))"
      ]
    },
    {
      "cell_type": "markdown",
      "metadata": {
        "id": "0cCkMS3jc_P-"
      },
      "source": [
        "## Incorect Predictions\n",
        "We have got accuarcy over 86 percent so the errors in prediction are little.But it is Necessary to Understand why did it happen.\n",
        "So lets visualize the Data set of images that got Wrong prediction while the model is processing ."
      ]
    },
    {
      "cell_type": "markdown",
      "metadata": {
        "id": "9DZNBbRJ8rmI"
      },
      "source": [
        "##Get values for incorrect predictions"
      ]
    },
    {
      "cell_type": "code",
      "execution_count": 12,
      "metadata": {
        "colab": {
          "base_uri": "https://localhost:8080/"
        },
        "id": "3hv-xcfJc_P-",
        "outputId": "2624a28e-dbfb-4fc7-fcfd-8ebb8d2e9631"
      },
      "outputs": [
        {
          "name": "stdout",
          "output_type": "stream",
          "text": [
            "Empty DataFrame\n",
            "Columns: [predicted, actual, probability, file, raw_logits]\n",
            "Index: []\n",
            "   predicted    actual  probability  \\\n",
            "26     crack  no_crack    95.562619   \n",
            "48     crack  no_crack    75.419301   \n",
            "50     crack  no_crack    89.127094   \n",
            "\n",
            "                                             file  \\\n",
            "26   road_cracks/dataset/test/no_crack/Image5.png   \n",
            "48  road_cracks/dataset/test/no_crack/Image25.png   \n",
            "50  road_cracks/dataset/test/no_crack/Image29.png   \n",
            "\n",
            "                                           raw_logits  \n",
            "26  (tf.Tensor(0.9556262, shape=(), dtype=float32)...  \n",
            "48  (tf.Tensor(0.754193, shape=(), dtype=float32),...  \n",
            "50  (tf.Tensor(0.89127094, shape=(), dtype=float32...  \n",
            "Empty DataFrame\n",
            "Columns: [predicted, actual, probability, file, raw_logits]\n",
            "Index: []\n"
          ]
        }
      ],
      "source": [
        "for i in classes:\n",
        "   incorrect = results.loc[(results['predicted'] == i) & (results['actual'] == i)]\n",
        "   print(incorrect)"
      ]
    },
    {
      "cell_type": "markdown",
      "metadata": {
        "id": "TJmMFH_x8rmJ"
      },
      "source": [
        "##Get Details For Correct Predictions"
      ]
    },
    {
      "cell_type": "code",
      "execution_count": 13,
      "metadata": {
        "colab": {
          "base_uri": "https://localhost:8080/"
        },
        "id": "6O2pyI3A8rmK",
        "outputId": "b9385c5c-c014-491f-c5bc-33682e59991e"
      },
      "outputs": [
        {
          "name": "stdout",
          "output_type": "stream",
          "text": [
            "   predicted actual  probability                                        file  \\\n",
            "0      crack  crack    98.836201   road_cracks/dataset/test/crack/Image1.png   \n",
            "1      crack  crack    98.651195  road_cracks/dataset/test/crack/Image20.png   \n",
            "2      crack  crack    98.885345  road_cracks/dataset/test/crack/Image17.png   \n",
            "3      crack  crack    79.970330   road_cracks/dataset/test/crack/Image5.png   \n",
            "4      crack  crack    99.407649  road_cracks/dataset/test/crack/Image16.png   \n",
            "5      crack  crack    98.448181  road_cracks/dataset/test/crack/Image12.png   \n",
            "6      crack  crack    98.668009  road_cracks/dataset/test/crack/Image14.png   \n",
            "7      crack  crack    98.171508  road_cracks/dataset/test/crack/Image15.png   \n",
            "8      crack  crack    98.702753  road_cracks/dataset/test/crack/Image19.png   \n",
            "9      crack  crack    97.068316  road_cracks/dataset/test/crack/Image10.png   \n",
            "10     crack  crack    95.953554   road_cracks/dataset/test/crack/Image6.png   \n",
            "11     crack  crack    97.133857   road_cracks/dataset/test/crack/Image9.png   \n",
            "12     crack  crack    98.401326  road_cracks/dataset/test/crack/Image11.png   \n",
            "13     crack  crack    79.970330   road_cracks/dataset/test/crack/Image2.png   \n",
            "14     crack  crack    97.602969   road_cracks/dataset/test/crack/Image8.png   \n",
            "15     crack  crack    98.836201  road_cracks/dataset/test/crack/Image18.png   \n",
            "16     crack  crack    98.668009  road_cracks/dataset/test/crack/Image13.png   \n",
            "17     crack  crack    95.953554   road_cracks/dataset/test/crack/Image7.png   \n",
            "18     crack  crack    98.100072   road_cracks/dataset/test/crack/Image4.png   \n",
            "\n",
            "                                           raw_logits  \n",
            "0   (tf.Tensor(0.988362, shape=(), dtype=float32),...  \n",
            "1   (tf.Tensor(0.98651195, shape=(), dtype=float32...  \n",
            "2   (tf.Tensor(0.98885345, shape=(), dtype=float32...  \n",
            "3   (tf.Tensor(0.7997033, shape=(), dtype=float32)...  \n",
            "4   (tf.Tensor(0.9940765, shape=(), dtype=float32)...  \n",
            "5   (tf.Tensor(0.9844818, shape=(), dtype=float32)...  \n",
            "6   (tf.Tensor(0.9866801, shape=(), dtype=float32)...  \n",
            "7   (tf.Tensor(0.9817151, shape=(), dtype=float32)...  \n",
            "8   (tf.Tensor(0.9870275, shape=(), dtype=float32)...  \n",
            "9   (tf.Tensor(0.97068316, shape=(), dtype=float32...  \n",
            "10  (tf.Tensor(0.95953554, shape=(), dtype=float32...  \n",
            "11  (tf.Tensor(0.97133857, shape=(), dtype=float32...  \n",
            "12  (tf.Tensor(0.98401326, shape=(), dtype=float32...  \n",
            "13  (tf.Tensor(0.7997033, shape=(), dtype=float32)...  \n",
            "14  (tf.Tensor(0.9760297, shape=(), dtype=float32)...  \n",
            "15  (tf.Tensor(0.988362, shape=(), dtype=float32),...  \n",
            "16  (tf.Tensor(0.9866801, shape=(), dtype=float32)...  \n",
            "17  (tf.Tensor(0.95953554, shape=(), dtype=float32...  \n",
            "18  (tf.Tensor(0.9810007, shape=(), dtype=float32)...  \n",
            "   predicted    actual  probability  \\\n",
            "19  no_crack  no_crack    97.544312   \n",
            "20  no_crack  no_crack    99.904269   \n",
            "21  no_crack  no_crack    99.784851   \n",
            "22  no_crack  no_crack    99.622285   \n",
            "23  no_crack  no_crack    99.999881   \n",
            "24  no_crack  no_crack    99.672037   \n",
            "25  no_crack  no_crack    99.989760   \n",
            "26     crack  no_crack    95.562619   \n",
            "27  no_crack  no_crack    92.672795   \n",
            "28  no_crack  no_crack    98.857456   \n",
            "29  no_crack  no_crack    99.466890   \n",
            "30  no_crack  no_crack    97.665954   \n",
            "31  no_crack  no_crack    99.786985   \n",
            "32  no_crack  no_crack    96.058267   \n",
            "33  no_crack  no_crack    99.855024   \n",
            "34  no_crack  no_crack    99.999917   \n",
            "35  no_crack  no_crack    99.985301   \n",
            "36  no_crack  no_crack    99.739826   \n",
            "37  no_crack  no_crack    99.888164   \n",
            "38  no_crack  no_crack    54.231077   \n",
            "39  no_crack  no_crack    98.600578   \n",
            "40  no_crack  no_crack    98.184764   \n",
            "41  no_crack  no_crack    99.984503   \n",
            "42  no_crack  no_crack    99.999988   \n",
            "43  no_crack  no_crack    98.891056   \n",
            "44  no_crack  no_crack    98.679197   \n",
            "45  no_crack  no_crack    99.270481   \n",
            "46  no_crack  no_crack   100.000000   \n",
            "47  no_crack  no_crack    97.650367   \n",
            "48     crack  no_crack    75.419301   \n",
            "49  no_crack  no_crack    65.524852   \n",
            "50     crack  no_crack    89.127094   \n",
            "51  no_crack  no_crack    67.301679   \n",
            "52  no_crack  no_crack    97.944450   \n",
            "53  no_crack  no_crack    99.880004   \n",
            "54  no_crack  no_crack    95.586467   \n",
            "55  no_crack  no_crack    99.680448   \n",
            "56  no_crack  no_crack    98.350269   \n",
            "57  no_crack  no_crack    99.227023   \n",
            "\n",
            "                                             file  \\\n",
            "19  road_cracks/dataset/test/no_crack/Image31.png   \n",
            "20  road_cracks/dataset/test/no_crack/Image24.png   \n",
            "21   road_cracks/dataset/test/no_crack/Image1.png   \n",
            "22  road_cracks/dataset/test/no_crack/Image22.png   \n",
            "23  road_cracks/dataset/test/no_crack/Image20.png   \n",
            "24  road_cracks/dataset/test/no_crack/Image27.png   \n",
            "25  road_cracks/dataset/test/no_crack/Image17.png   \n",
            "26   road_cracks/dataset/test/no_crack/Image5.png   \n",
            "27  road_cracks/dataset/test/no_crack/Image16.png   \n",
            "28  road_cracks/dataset/test/no_crack/Image26.png   \n",
            "29  road_cracks/dataset/test/no_crack/Image12.png   \n",
            "30  road_cracks/dataset/test/no_crack/Image21.png   \n",
            "31  road_cracks/dataset/test/no_crack/Image34.png   \n",
            "32  road_cracks/dataset/test/no_crack/Image28.png   \n",
            "33  road_cracks/dataset/test/no_crack/Image37.png   \n",
            "34  road_cracks/dataset/test/no_crack/Image14.png   \n",
            "35  road_cracks/dataset/test/no_crack/Image30.png   \n",
            "36  road_cracks/dataset/test/no_crack/Image15.png   \n",
            "37  road_cracks/dataset/test/no_crack/Image23.png   \n",
            "38  road_cracks/dataset/test/no_crack/Image19.png   \n",
            "39  road_cracks/dataset/test/no_crack/Image10.png   \n",
            "40   road_cracks/dataset/test/no_crack/Image6.png   \n",
            "41  road_cracks/dataset/test/no_crack/Image33.png   \n",
            "42   road_cracks/dataset/test/no_crack/Image9.png   \n",
            "43  road_cracks/dataset/test/no_crack/Image38.png   \n",
            "44   road_cracks/dataset/test/no_crack/Image3.png   \n",
            "45  road_cracks/dataset/test/no_crack/Image11.png   \n",
            "46   road_cracks/dataset/test/no_crack/Image2.png   \n",
            "47   road_cracks/dataset/test/no_crack/Image8.png   \n",
            "48  road_cracks/dataset/test/no_crack/Image25.png   \n",
            "49  road_cracks/dataset/test/no_crack/Image35.png   \n",
            "50  road_cracks/dataset/test/no_crack/Image29.png   \n",
            "51  road_cracks/dataset/test/no_crack/Image18.png   \n",
            "52  road_cracks/dataset/test/no_crack/Image13.png   \n",
            "53  road_cracks/dataset/test/no_crack/Image32.png   \n",
            "54  road_cracks/dataset/test/no_crack/Image36.png   \n",
            "55  road_cracks/dataset/test/no_crack/Image39.png   \n",
            "56   road_cracks/dataset/test/no_crack/Image7.png   \n",
            "57   road_cracks/dataset/test/no_crack/Image4.png   \n",
            "\n",
            "                                           raw_logits  \n",
            "19  (tf.Tensor(0.024556817, shape=(), dtype=float3...  \n",
            "20  (tf.Tensor(0.0009573414, shape=(), dtype=float...  \n",
            "21  (tf.Tensor(0.0021515277, shape=(), dtype=float...  \n",
            "22  (tf.Tensor(0.0037771624, shape=(), dtype=float...  \n",
            "23  (tf.Tensor(1.2464759e-06, shape=(), dtype=floa...  \n",
            "24  (tf.Tensor(0.0032796739, shape=(), dtype=float...  \n",
            "25  (tf.Tensor(0.00010242178, shape=(), dtype=floa...  \n",
            "26  (tf.Tensor(0.9556262, shape=(), dtype=float32)...  \n",
            "27  (tf.Tensor(0.07327205, shape=(), dtype=float32...  \n",
            "28  (tf.Tensor(0.011425435, shape=(), dtype=float3...  \n",
            "29  (tf.Tensor(0.0053311307, shape=(), dtype=float...  \n",
            "30  (tf.Tensor(0.023340447, shape=(), dtype=float3...  \n",
            "31  (tf.Tensor(0.0021300924, shape=(), dtype=float...  \n",
            "32  (tf.Tensor(0.039417304, shape=(), dtype=float3...  \n",
            "33  (tf.Tensor(0.0014497595, shape=(), dtype=float...  \n",
            "34  (tf.Tensor(8.047618e-07, shape=(), dtype=float...  \n",
            "35  (tf.Tensor(0.0001469634, shape=(), dtype=float...  \n",
            "36  (tf.Tensor(0.002601722, shape=(), dtype=float3...  \n",
            "37  (tf.Tensor(0.0011183103, shape=(), dtype=float...  \n",
            "38  (tf.Tensor(0.45768926, shape=(), dtype=float32...  \n",
            "39  (tf.Tensor(0.013994148, shape=(), dtype=float3...  \n",
            "40  (tf.Tensor(0.018152371, shape=(), dtype=float3...  \n",
            "41  (tf.Tensor(0.0001549209, shape=(), dtype=float...  \n",
            "42  (tf.Tensor(7.3596425e-08, shape=(), dtype=floa...  \n",
            "43  (tf.Tensor(0.01108944, shape=(), dtype=float32...  \n",
            "44  (tf.Tensor(0.013207985, shape=(), dtype=float3...  \n",
            "45  (tf.Tensor(0.0072951945, shape=(), dtype=float...  \n",
            "46  (tf.Tensor(7.2377917e-16, shape=(), dtype=floa...  \n",
            "47  (tf.Tensor(0.023496319, shape=(), dtype=float3...  \n",
            "48  (tf.Tensor(0.754193, shape=(), dtype=float32),...  \n",
            "49  (tf.Tensor(0.34475145, shape=(), dtype=float32...  \n",
            "50  (tf.Tensor(0.89127094, shape=(), dtype=float32...  \n",
            "51  (tf.Tensor(0.32698318, shape=(), dtype=float32...  \n",
            "52  (tf.Tensor(0.020555485, shape=(), dtype=float3...  \n",
            "53  (tf.Tensor(0.0011999456, shape=(), dtype=float...  \n",
            "54  (tf.Tensor(0.044135347, shape=(), dtype=float3...  \n",
            "55  (tf.Tensor(0.0031954765, shape=(), dtype=float...  \n",
            "56  (tf.Tensor(0.01649734, shape=(), dtype=float32...  \n",
            "57  (tf.Tensor(0.007729713, shape=(), dtype=float3...  \n",
            "Empty DataFrame\n",
            "Columns: [predicted, actual, probability, file, raw_logits]\n",
            "Index: []\n"
          ]
        }
      ],
      "source": [
        "for i in classes:\n",
        "    correct=results.loc[(results['predicted']!=1)&(results['actual']==i)]\n",
        "    print(correct)"
      ]
    },
    {
      "cell_type": "markdown",
      "metadata": {
        "id": "bTYtap_dGC_r"
      },
      "source": [
        "We can see that non clear and blur images got less probability of cracks mostly. And also when image disturbance is Big."
      ]
    },
    {
      "cell_type": "markdown",
      "metadata": {
        "id": "nunKW8NUGW8j"
      },
      "source": [
        "Lets Take a look probability distribution for incorrect classifications"
      ]
    },
    {
      "cell_type": "markdown",
      "metadata": {
        "id": "5VFGkMmZGeTE"
      },
      "source": [
        "We will Use Pandas to Understand the errors in the model."
      ]
    },
    {
      "cell_type": "code",
      "execution_count": 14,
      "metadata": {
        "colab": {
          "base_uri": "https://localhost:8080/",
          "height": 281
        },
        "id": "cIkCSOpoc_P_",
        "outputId": "aad1b181-6b51-43e6-95ad-63832f1d0e26"
      },
      "outputs": [
        {
          "data": {
            "image/png": "[encoded data removed]",
            "text/plain": [
              "<Figure size 432x288 with 1 Axes>"
            ]
          },
          "metadata": {
            "needs_background": "light"
          },
          "output_type": "display_data"
        }
      ],
      "source": [
        "crack = results.loc[(results['predicted'] == 'crack')]\n",
        "no_crack = results.loc[(results['predicted'] == 'no_crack')]\n",
        "probs = pd.DataFrame({'Crack': crack['probability'], 'No Crack': no_crack['probability']})\n",
        "\n",
        "ax = probs.plot.kde(ind=[i for i in np.linspace(start = 60, stop = 110, num = 1000)], \n",
        "                    title='Probability Distribution', xlabel='Probability')"
      ]
    },
    {
      "cell_type": "markdown",
      "metadata": {
        "id": "21DkcD5E9fBL"
      },
      "source": [
        "We can see model is more accurate for most images for crack."
      ]
    },
    {
      "cell_type": "code",
      "execution_count": 15,
      "metadata": {
        "colab": {
          "base_uri": "https://localhost:8080/",
          "height": 297
        },
        "id": "cPkaggNfc_QA",
        "outputId": "8e3a6c68-aa3d-4699-c2d7-52c19555d220"
      },
      "outputs": [
        {
          "data": {
            "image/png": "[encoded data removed]",
            "text/plain": [
              "<Figure size 432x288 with 1 Axes>"
            ]
          },
          "metadata": {
            "needs_background": "light"
          },
          "output_type": "display_data"
        }
      ],
      "source": [
        "prob_no_crack = []\n",
        "for i in range(len(results)):\n",
        "    logits = results['raw_logits'][i]\n",
        "    prob_no_crack.append(logits[1])\n",
        "\n",
        "prob_true_binary, prob_pred_binary = calibration_curve(\n",
        "        results['actual'].map({'crack': 0, 'no_crack': 1}), \n",
        "        prob_no_crack, n_bins=4, normalize=False)\n",
        "\n",
        "#We will use matplotlib to visualize the graph.\n",
        "fig = plt.figure()\n",
        "ax = plt.gca()\n",
        "\n",
        "plt.plot([0, 1], [0, 1], color='tab:pink', linestyle=\":\", label=\"Calibrated Model\")\n",
        "plt.plot(prob_pred_binary, prob_true_binary, label='Classifier', color=\"tab:grey\")\n",
        "\n",
        "plt.ylabel('positive rate')\n",
        "plt.xlabel('predicted value')\n",
        "\n",
        "plt.legend()\n",
        "plt.yticks()\n",
        "plt.grid(True)\n",
        "plt.tight_layout()\n",
        "\n",
        "plt.show()"
      ]
    },
    {
      "cell_type": "markdown",
      "metadata": {
        "id": "M4dPsAvZ9fBM"
      },
      "source": [
        "Calibrated model performs better than classifier model.And its variance between variable is 1.Which means it is good."
      ]
    },
    {
      "cell_type": "markdown",
      "metadata": {
        "id": "C-fn7EUHIAs8"
      },
      "source": [
        "This Last line will remove downloaded data so Please Enter after all the evaluations are done"
      ]
    },
    {
      "cell_type": "code",
      "execution_count": null,
      "metadata": {
        "colab": {
          "base_uri": "https://localhost:8080/"
        },
        "id": "IDOU2Q6d9fBM",
        "outputId": "bd5b0ef5-3255-49e7-f180-faf7f59d5cb9"
      },
      "outputs": [
        {
          "name": "stdout",
          "output_type": "stream",
          "text": [
            "Type Yes or Y or y or yes to delete the downloaded resources\n"
          ]
        }
      ],
      "source": [
        "# delete all files downloaded in this notebook\n",
        "import datetime\n",
        "from git import rmtree\n",
        "print('Type Yes or Y or y or yes to delete the downloaded resources')\n",
        "user=input()\n",
        "if user==\"Yes\" or user=='yes' or user=='y' or user==\"Y\":\n",
        "  print('The downloaded resource files are deleted.Deletion intiated at '+str(datetime.datetime.now())+\" UTC Time     Thank You for Presence.\")\n",
        "  rmtree('./'+filepath)\n",
        "  print('The downloaded resource files are deleted.At '+str(time())+\"Thank You for Presence.\")\n",
        "else:\n",
        "    print(\"Waiting for input to Delete.If you want to delete the downloaded resources input y or Yes or yes or Y\")\n",
        "\n"
      ]
    },
    {
      "cell_type": "markdown",
      "metadata": {
        "id": "C3apLWQ0c_QA"
      },
      "source": [
        "#Arguments\n",
        "\n",
        "\n",
        "The model Generated will help classifing cracks with no cracks.Similar model can introduced for pothole and no pothole as well.There are several limations with computer vision problem such as image should be clear and model should be trained with clear images."
      ]
    }
  ],
  "metadata": {
    "accelerator": "GPU",
    "colab": {
      "collapsed_sections": [],
      "provenance": []
    },
    "gpuClass": "standard",
    "kernelspec": {
      "display_name": "tf38",
      "language": "python",
      "name": "tf38"
    },
    "language_info": {
      "codemirror_mode": {
        "name": "ipython",
        "version": 3
      },
      "file_extension": ".py",
      "mimetype": "text/x-python",
      "name": "python",
      "nbconvert_exporter": "python",
      "pygments_lexer": "ipython3",
      "version": "3.8.5"
    }
  },
  "nbformat": 4,
  "nbformat_minor": 0
}
